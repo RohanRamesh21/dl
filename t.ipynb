{
 "cells": [
  {
   "cell_type": "code",
   "execution_count": null,
   "id": "130e9c79",
   "metadata": {},
   "outputs": [],
   "source": [
    "# 🎯 BIDIRECTIONAL LSTM TRAINING\n",
    "import time\n",
    "import torch\n",
    "import pandas as pd\n",
    "from correct_implementation import train_model_enhanced, generate\n",
    "\n",
    "print(\"=\" * 80)\n",
    "print(\"🔥 NEURAL MACHINE TRANSLATION TRAINING\")\n",
    "print(\"Enhanced with Bidirectional LSTM\")\n",
    "print(\"=\" * 80)\n",
    "\n",
    "device = 'cuda' if torch.cuda.is_available() else 'cpu'\n",
    "print(f\"🔧 Device: {device}\")\n",
    "print(f\"🧠 CUDA available: {torch.cuda.is_available()}\")\n",
    "\n",
    "# 🎯 TRAINING CONFIGURATION - Set bidirectional=True/False\n",
    "CONFIG = {\n",
    "    'data_file_path': 'eng_-french.csv',\n",
    "    'epochs': 20,\n",
    "    'batch_size': 64,\n",
    "    'embedding_dim': 256,\n",
    "    'lstm_units': 256,\n",
    "    'learning_rate': 0.001,\n",
    "    'device': device,\n",
    "    'sample_size': 10000,\n",
    "    'use_dummy_data': False,\n",
    "    'teacher_forcing_schedule': 'linear',\n",
    "    'encoder_num_layers': 1,\n",
    "    'decoder_num_layers': 1,\n",
    "    'dropout_rate': 0.1,\n",
    "    'bidirectional': True                # 🎯 True/False - Enable/Disable bidirectional\n",
    "}\n",
    "\n",
    "print(\"📋 Training Configuration:\")\n",
    "for key, value in CONFIG.items():\n",
    "    print(f\"   {key}: {value}\")\n",
    "\n",
    "start_time = time.time()\n",
    "\n",
    "try:\n",
    "    print(f\"\\n🚀 Starting training...\")\n",
    "    model, data_dict, history = train_model_enhanced(**CONFIG)\n",
    "    \n",
    "    training_time = time.time() - start_time\n",
    "    \n",
    "    print(f\"\\n✅ Training completed!\")\n",
    "    print(f\"⏱️  Training time: {training_time/60:.2f} minutes\")\n",
    "    print(f\"📊 Final validation accuracy: {history['val_acc'][-1]:.4f}\")\n",
    "    \n",
    "except Exception as e:\n",
    "    print(f\"❌ Training failed: {e}\")\n",
    "    import traceback\n",
    "    traceback.print_exc()"
   ]
  },
  {
   "cell_type": "code",
   "execution_count": null,
   "id": "2c6e6896",
   "metadata": {},
   "outputs": [
    {
     "name": "stdout",
     "output_type": "stream",
     "text": [
      "================================================================================\n",
      "🔥 LARGE-SCALE NEURAL MACHINE TRANSLATION TRAINING\n",
      "Training on 75,000 samples with Teacher Forcing Ratio Scheduling\n",
      "================================================================================\n",
      "🔧 Device: cuda\n",
      "🧠 CUDA available: True\n",
      "📋 Training Configuration:\n",
      "   data_file_path: eng_-french.csv\n",
      "   epochs: 25\n",
      "   batch_size: 128\n",
      "   embedding_dim: 256\n",
      "   lstm_units: 512\n",
      "   learning_rate: 0.0008\n",
      "   device: cuda\n",
      "   sample_size: 75000\n",
      "   use_dummy_data: False\n",
      "   teacher_forcing_schedule: linear\n",
      "\n",
      "🚀 Starting large-scale training...\n",
      "============================================================\n",
      "ENHANCED NEURAL MACHINE TRANSLATION TRAINING\n",
      "With Teacher Forcing Ratio Scheduling\n",
      "============================================================\n",
      "Loading and preprocessing data...\n",
      "Loading data from eng_-french.csv...\n",
      "Dataset shape: (175621, 2)\n",
      "Columns: ['English words/sentences', 'French words/sentences']\n",
      "Using columns: English='English words/sentences', French='French words/sentences'\n",
      "After cleaning: 175621 samples\n",
      "Sampled 75000 examples\n",
      "Total samples: 75000\n",
      "Sample English: Take a seat.\n",
      "Sample French: sos Prends place ! eos\n",
      "Training samples: 60000\n",
      "Validation samples: 15000\n",
      "Max English length: 35\n",
      "Max French length: 42\n",
      "English vocabulary size: 16729\n",
      "French vocabulary size: 25957\n",
      "Model has 40,683,365 parameters\n",
      "Training on 60000 samples\n",
      "Validation on 15000 samples\n",
      "Teacher forcing schedule: linear\n",
      "------------------------------------------------------------\n",
      "Epoch 1/25 - Teacher forcing ratio: 1.000\n"
     ]
    },
    {
     "data": {
      "application/vnd.jupyter.widget-view+json": {
       "model_id": "afdbecc588954a3e8c861422294fc2b9",
       "version_major": 2,
       "version_minor": 0
      },
      "text/plain": [
       "Training:   0%|          | 0/469 [00:00<?, ?it/s]"
      ]
     },
     "metadata": {},
     "output_type": "display_data"
    },
    {
     "name": "stdout",
     "output_type": "stream",
     "text": [
      "❌ Training failed: CUDA out of memory. Tried to allocate 520.00 MiB. GPU 0 has a total capacity of 3.68 GiB of which 177.75 MiB is free. Process 1095152 has 984.78 MiB memory in use. Process 3645021 has 652.00 MiB memory in use. Including non-PyTorch memory, this process has 1.86 GiB memory in use. Of the allocated memory 1.41 GiB is allocated by PyTorch, and 367.97 MiB is reserved by PyTorch but unallocated. If reserved but unallocated memory is large try setting PYTORCH_CUDA_ALLOC_CONF=expandable_segments:True to avoid fragmentation.  See documentation for Memory Management  (https://pytorch.org/docs/stable/notes/cuda.html#environment-variables)\n",
      "🔄 Falling back to smaller sample size for demonstration...\n",
      "============================================================\n",
      "ENHANCED NEURAL MACHINE TRANSLATION TRAINING\n",
      "With Teacher Forcing Ratio Scheduling\n",
      "============================================================\n",
      "Loading and preprocessing data...\n",
      "Loading data from eng_-french.csv...\n",
      "Dataset shape: (175621, 2)\n",
      "Columns: ['English words/sentences', 'French words/sentences']\n",
      "Using columns: English='English words/sentences', French='French words/sentences'\n",
      "After cleaning: 175621 samples\n",
      "Sampled 10000 examples\n",
      "Total samples: 10000\n",
      "Sample English: Take a seat.\n",
      "Sample French: sos Prends place ! eos\n",
      "Training samples: 8000\n",
      "Validation samples: 2000\n",
      "Max English length: 32\n",
      "Max French length: 42\n",
      "English vocabulary size: 6232\n",
      "French vocabulary size: 8493\n",
      "Model has 15,624,749 parameters\n",
      "Training on 8000 samples\n",
      "Validation on 2000 samples\n",
      "Teacher forcing schedule: linear\n",
      "------------------------------------------------------------\n",
      "Epoch 1/8 - Teacher forcing ratio: 1.000\n"
     ]
    },
    {
     "data": {
      "application/vnd.jupyter.widget-view+json": {
       "model_id": "53914474f05c4ede99dcdb63452451a7",
       "version_major": 2,
       "version_minor": 0
      },
      "text/plain": [
       "Training:   0%|          | 0/125 [00:00<?, ?it/s]"
      ]
     },
     "metadata": {},
     "output_type": "display_data"
    },
    {
     "name": "stdout",
     "output_type": "stream",
     "text": [
      "❌ Fallback also failed: CUDA out of memory. Tried to allocate 164.00 MiB. GPU 0 has a total capacity of 3.68 GiB of which 67.75 MiB is free. Process 1095152 has 984.78 MiB memory in use. Process 3645021 has 652.00 MiB memory in use. Including non-PyTorch memory, this process has 1.96 GiB memory in use. Of the allocated memory 1.68 GiB is allocated by PyTorch, and 195.62 MiB is reserved by PyTorch but unallocated. If reserved but unallocated memory is large try setting PYTORCH_CUDA_ALLOC_CONF=expandable_segments:True to avoid fragmentation.  See documentation for Memory Management  (https://pytorch.org/docs/stable/notes/cuda.html#environment-variables)\n",
      "🔄 Using dummy data for demonstration...\n",
      "============================================================\n",
      "ENHANCED NEURAL MACHINE TRANSLATION TRAINING\n",
      "With Teacher Forcing Ratio Scheduling\n",
      "============================================================\n",
      "Loading and preprocessing data...\n",
      "Total samples: 12\n",
      "Sample English: hello world\n",
      "Sample French: sos bonjour monde eos\n",
      "Training samples: 9\n",
      "Validation samples: 3\n",
      "Max English length: 4\n",
      "Max French length: 6\n",
      "English vocabulary size: 23\n",
      "French vocabulary size: 24\n",
      "Model has 806,808 parameters\n",
      "Training on 9 samples\n",
      "Validation on 3 samples\n",
      "Teacher forcing schedule: linear\n",
      "------------------------------------------------------------\n",
      "Epoch 1/10 - Teacher forcing ratio: 1.000\n"
     ]
    },
    {
     "data": {
      "application/vnd.jupyter.widget-view+json": {
       "model_id": "75ceb3e0e33b4102a0da532d494a3a1b",
       "version_major": 2,
       "version_minor": 0
      },
      "text/plain": [
       "Training:   0%|          | 0/1 [00:00<?, ?it/s]"
      ]
     },
     "metadata": {},
     "output_type": "display_data"
    },
    {
     "data": {
      "application/vnd.jupyter.widget-view+json": {
       "model_id": "5616edf495cc4e54a7263fd3e313b6f1",
       "version_major": 2,
       "version_minor": 0
      },
      "text/plain": [
       "Validation:   0%|          | 0/1 [00:00<?, ?it/s]"
      ]
     },
     "metadata": {},
     "output_type": "display_data"
    },
    {
     "name": "stdout",
     "output_type": "stream",
     "text": [
      "Epoch  1/10 - 0.09s - loss: 3.1753 - acc: 0.0323 - val_loss: 3.1290 - val_acc: 0.4000 - lr: 1.00e-03 - tf: 1.000\n",
      "Epoch 2/10 - Teacher forcing ratio: 0.930\n"
     ]
    },
    {
     "data": {
      "application/vnd.jupyter.widget-view+json": {
       "model_id": "5baed975159f4d80bbbcbdf1963bee56",
       "version_major": 2,
       "version_minor": 0
      },
      "text/plain": [
       "Training:   0%|          | 0/1 [00:00<?, ?it/s]"
      ]
     },
     "metadata": {},
     "output_type": "display_data"
    },
    {
     "data": {
      "application/vnd.jupyter.widget-view+json": {
       "model_id": "fb570403088d4f208930c4f13c03b7c8",
       "version_major": 2,
       "version_minor": 0
      },
      "text/plain": [
       "Validation:   0%|          | 0/1 [00:00<?, ?it/s]"
      ]
     },
     "metadata": {},
     "output_type": "display_data"
    },
    {
     "name": "stdout",
     "output_type": "stream",
     "text": [
      "Epoch  2/10 - 0.07s - loss: 3.1376 - acc: 0.2581 - val_loss: 3.0848 - val_acc: 0.6000 - lr: 1.00e-03 - tf: 0.930\n",
      "Epoch 3/10 - Teacher forcing ratio: 0.860\n"
     ]
    },
    {
     "data": {
      "application/vnd.jupyter.widget-view+json": {
       "model_id": "b84da29ca09f46bf8100cf905850ba87",
       "version_major": 2,
       "version_minor": 0
      },
      "text/plain": [
       "Training:   0%|          | 0/1 [00:00<?, ?it/s]"
      ]
     },
     "metadata": {},
     "output_type": "display_data"
    },
    {
     "data": {
      "application/vnd.jupyter.widget-view+json": {
       "model_id": "2f666591793e46a2b18c267630600856",
       "version_major": 2,
       "version_minor": 0
      },
      "text/plain": [
       "Validation:   0%|          | 0/1 [00:00<?, ?it/s]"
      ]
     },
     "metadata": {},
     "output_type": "display_data"
    },
    {
     "name": "stdout",
     "output_type": "stream",
     "text": [
      "Epoch  3/10 - 0.04s - loss: 3.0963 - acc: 0.2903 - val_loss: 3.0386 - val_acc: 0.6000 - lr: 1.00e-03 - tf: 0.860\n",
      "Epoch 4/10 - Teacher forcing ratio: 0.790\n"
     ]
    },
    {
     "data": {
      "application/vnd.jupyter.widget-view+json": {
       "model_id": "4ce180ab038d4b44a94dedf2c984cd0c",
       "version_major": 2,
       "version_minor": 0
      },
      "text/plain": [
       "Training:   0%|          | 0/1 [00:00<?, ?it/s]"
      ]
     },
     "metadata": {},
     "output_type": "display_data"
    },
    {
     "data": {
      "application/vnd.jupyter.widget-view+json": {
       "model_id": "7f6d9ae3bd9d4375bb9c6884d4bbc832",
       "version_major": 2,
       "version_minor": 0
      },
      "text/plain": [
       "Validation:   0%|          | 0/1 [00:00<?, ?it/s]"
      ]
     },
     "metadata": {},
     "output_type": "display_data"
    },
    {
     "name": "stdout",
     "output_type": "stream",
     "text": [
      "Epoch  4/10 - 0.04s - loss: 3.0527 - acc: 0.2903 - val_loss: 2.9883 - val_acc: 0.6000 - lr: 1.00e-03 - tf: 0.790\n",
      "Epoch 5/10 - Teacher forcing ratio: 0.720\n"
     ]
    },
    {
     "data": {
      "application/vnd.jupyter.widget-view+json": {
       "model_id": "fd6eb4051367413e843a8eb4f126479d",
       "version_major": 2,
       "version_minor": 0
      },
      "text/plain": [
       "Training:   0%|          | 0/1 [00:00<?, ?it/s]"
      ]
     },
     "metadata": {},
     "output_type": "display_data"
    },
    {
     "data": {
      "application/vnd.jupyter.widget-view+json": {
       "model_id": "60a9d7efc31945f49d24747ae9ba82e9",
       "version_major": 2,
       "version_minor": 0
      },
      "text/plain": [
       "Validation:   0%|          | 0/1 [00:00<?, ?it/s]"
      ]
     },
     "metadata": {},
     "output_type": "display_data"
    },
    {
     "name": "stdout",
     "output_type": "stream",
     "text": [
      "Epoch  5/10 - 0.04s - loss: 3.0030 - acc: 0.2903 - val_loss: 2.9314 - val_acc: 0.6000 - lr: 1.00e-03 - tf: 0.720\n",
      "Epoch 6/10 - Teacher forcing ratio: 0.650\n"
     ]
    },
    {
     "data": {
      "application/vnd.jupyter.widget-view+json": {
       "model_id": "6abc98e72c5d4a68a6726df305a35b03",
       "version_major": 2,
       "version_minor": 0
      },
      "text/plain": [
       "Training:   0%|          | 0/1 [00:00<?, ?it/s]"
      ]
     },
     "metadata": {},
     "output_type": "display_data"
    },
    {
     "data": {
      "application/vnd.jupyter.widget-view+json": {
       "model_id": "4b2e05b9246546a192171e9404900340",
       "version_major": 2,
       "version_minor": 0
      },
      "text/plain": [
       "Validation:   0%|          | 0/1 [00:00<?, ?it/s]"
      ]
     },
     "metadata": {},
     "output_type": "display_data"
    },
    {
     "name": "stdout",
     "output_type": "stream",
     "text": [
      "Epoch  6/10 - 0.06s - loss: 2.9589 - acc: 0.2903 - val_loss: 2.8652 - val_acc: 0.6000 - lr: 1.00e-03 - tf: 0.650\n",
      "Epoch 7/10 - Teacher forcing ratio: 0.580\n"
     ]
    },
    {
     "data": {
      "application/vnd.jupyter.widget-view+json": {
       "model_id": "ed6490452d094c8cbf9b0d1b9658e597",
       "version_major": 2,
       "version_minor": 0
      },
      "text/plain": [
       "Training:   0%|          | 0/1 [00:00<?, ?it/s]"
      ]
     },
     "metadata": {},
     "output_type": "display_data"
    },
    {
     "data": {
      "application/vnd.jupyter.widget-view+json": {
       "model_id": "ed8e690789fe4e6392614da5937c963d",
       "version_major": 2,
       "version_minor": 0
      },
      "text/plain": [
       "Validation:   0%|          | 0/1 [00:00<?, ?it/s]"
      ]
     },
     "metadata": {},
     "output_type": "display_data"
    },
    {
     "name": "stdout",
     "output_type": "stream",
     "text": [
      "Epoch  7/10 - 0.05s - loss: 2.8962 - acc: 0.2903 - val_loss: 2.7858 - val_acc: 0.6000 - lr: 1.00e-03 - tf: 0.580\n",
      "Epoch 8/10 - Teacher forcing ratio: 0.510\n"
     ]
    },
    {
     "data": {
      "application/vnd.jupyter.widget-view+json": {
       "model_id": "4e03ecfe98414ba5b6cef331b1e91031",
       "version_major": 2,
       "version_minor": 0
      },
      "text/plain": [
       "Training:   0%|          | 0/1 [00:00<?, ?it/s]"
      ]
     },
     "metadata": {},
     "output_type": "display_data"
    },
    {
     "data": {
      "application/vnd.jupyter.widget-view+json": {
       "model_id": "8db071b8111f4d70b897b597673fec01",
       "version_major": 2,
       "version_minor": 0
      },
      "text/plain": [
       "Validation:   0%|          | 0/1 [00:00<?, ?it/s]"
      ]
     },
     "metadata": {},
     "output_type": "display_data"
    },
    {
     "name": "stdout",
     "output_type": "stream",
     "text": [
      "Epoch  8/10 - 0.05s - loss: 2.8470 - acc: 0.2903 - val_loss: 2.6881 - val_acc: 0.6000 - lr: 1.00e-03 - tf: 0.510\n",
      "Epoch 9/10 - Teacher forcing ratio: 0.440\n"
     ]
    },
    {
     "data": {
      "application/vnd.jupyter.widget-view+json": {
       "model_id": "9034a7d14b1946e68aae6142e3c0955c",
       "version_major": 2,
       "version_minor": 0
      },
      "text/plain": [
       "Training:   0%|          | 0/1 [00:00<?, ?it/s]"
      ]
     },
     "metadata": {},
     "output_type": "display_data"
    },
    {
     "data": {
      "application/vnd.jupyter.widget-view+json": {
       "model_id": "d9f6e88d20a94215915f2726fb6af1c8",
       "version_major": 2,
       "version_minor": 0
      },
      "text/plain": [
       "Validation:   0%|          | 0/1 [00:00<?, ?it/s]"
      ]
     },
     "metadata": {},
     "output_type": "display_data"
    },
    {
     "name": "stdout",
     "output_type": "stream",
     "text": [
      "Epoch  9/10 - 0.04s - loss: 2.7537 - acc: 0.2903 - val_loss: 2.5650 - val_acc: 0.6000 - lr: 1.00e-03 - tf: 0.440\n",
      "Epoch 10/10 - Teacher forcing ratio: 0.370\n"
     ]
    },
    {
     "data": {
      "application/vnd.jupyter.widget-view+json": {
       "model_id": "120537d084104392b5945c4f46fdf575",
       "version_major": 2,
       "version_minor": 0
      },
      "text/plain": [
       "Training:   0%|          | 0/1 [00:00<?, ?it/s]"
      ]
     },
     "metadata": {},
     "output_type": "display_data"
    },
    {
     "data": {
      "application/vnd.jupyter.widget-view+json": {
       "model_id": "e251886f6abd4daabb91317bc401c815",
       "version_major": 2,
       "version_minor": 0
      },
      "text/plain": [
       "Validation:   0%|          | 0/1 [00:00<?, ?it/s]"
      ]
     },
     "metadata": {},
     "output_type": "display_data"
    },
    {
     "name": "stdout",
     "output_type": "stream",
     "text": [
      "Epoch 10/10 - 0.04s - loss: 2.6796 - acc: 0.2903 - val_loss: 2.4084 - val_acc: 0.6000 - lr: 1.00e-03 - tf: 0.370\n",
      "✅ Demo training completed in 5.35 seconds\n",
      "\n",
      "📊 Training History Summary:\n",
      "   Epochs completed: 10\n",
      "   Best validation loss: 2.4084\n",
      "   Best validation accuracy: 0.6000\n",
      "\n",
      "📈 Training Progress (last 5 epochs):\n",
      "   Epoch  6: loss=2.9589, acc=0.2903, val_loss=2.8652, val_acc=0.6000, tf_ratio=0.650\n",
      "   Epoch  7: loss=2.8962, acc=0.2903, val_loss=2.7858, val_acc=0.6000, tf_ratio=0.580\n",
      "   Epoch  8: loss=2.8470, acc=0.2903, val_loss=2.6881, val_acc=0.6000, tf_ratio=0.510\n",
      "   Epoch  9: loss=2.7537, acc=0.2903, val_loss=2.5650, val_acc=0.6000, tf_ratio=0.440\n",
      "   Epoch 10: loss=2.6796, acc=0.2903, val_loss=2.4084, val_acc=0.6000, tf_ratio=0.370\n",
      "\n",
      "🎯 Model is ready for comprehensive testing!\n"
     ]
    }
   ],
   "source": [
    "# 🚀 Large-Scale BIDIRECTIONAL Training: 75,000 samples with Enhanced Method\n",
    "import time\n",
    "import torch\n",
    "import pandas as pd\n",
    "from correct_implementation import train_model_enhanced, generate\n",
    "\n",
    "print(\"=\" * 80)\n",
    "print(\"🔥 LARGE-SCALE BIDIRECTIONAL NEURAL MACHINE TRANSLATION\")\n",
    "print(\"Training on 75,000 samples with Bidirectional LSTM + Teacher Forcing\")\n",
    "print(\"=\" * 80)\n",
    "\n",
    "device = 'cuda' if torch.cuda.is_available() else 'cpu'\n",
    "print(f\"🔧 Device: {device}\")\n",
    "print(f\"🧠 CUDA available: {torch.cuda.is_available()}\")\n",
    "\n",
    "# Training configuration for large-scale BIDIRECTIONAL training\n",
    "LARGE_SCALE_BIDIRECTIONAL_CONFIG = {\n",
    "    'data_file_path': 'eng_-french.csv',  # Use your actual data file\n",
    "    'epochs': 25,                         # Reasonable for large dataset\n",
    "    'batch_size': 64,                     # Smaller batch for bidirectional (memory intensive)\n",
    "    'embedding_dim': 256,                 # Full-size embeddings\n",
    "    'lstm_units': 512,                    # Larger LSTM for capacity\n",
    "    'learning_rate': 0.0008,              # Slightly lower for stability\n",
    "    'device': device,\n",
    "    'sample_size': 75000,                 # 75K samples as requested\n",
    "    'use_dummy_data': False,              # Use real data\n",
    "    'teacher_forcing_schedule': 'linear', # Linear decay: 1.0 → 0.3\n",
    "    'encoder_num_layers': 2,              # Multi-layer encoder\n",
    "    'decoder_num_layers': 2,              # Multi-layer decoder\n",
    "    'dropout_rate': 0.2,                  # Dropout for regularization\n",
    "    'bidirectional': True                 # 🎯 BIDIRECTIONAL ENHANCEMENT!\n",
    "}\n",
    "\n",
    "print(\"📋 Large-Scale Bidirectional Training Configuration:\")\n",
    "for key, value in LARGE_SCALE_BIDIRECTIONAL_CONFIG.items():\n",
    "    print(f\"   {key}: {value}\")\n",
    "\n",
    "print(f\"\\n🔄 BIDIRECTIONAL ADVANTAGES:\")\n",
    "print(f\"   • Forward + Backward processing for richer context\")\n",
    "print(f\"   • Encoder output: {LARGE_SCALE_BIDIRECTIONAL_CONFIG['lstm_units']} → {LARGE_SCALE_BIDIRECTIONAL_CONFIG['lstm_units']*2} dimensions\")\n",
    "print(f\"   • Enhanced attention with bidirectional representations\")\n",
    "print(f\"   • Expected significant accuracy improvement over unidirectional\")\n",
    "\n",
    "start_time = time.time()\n",
    "\n",
    "try:\n",
    "    # Train the large-scale bidirectional model\n",
    "    print(f\"\\n🚀 Starting large-scale bidirectional training...\")\n",
    "    model_large_bi, data_dict_large_bi, history_large_bi = train_model_enhanced(**LARGE_SCALE_BIDIRECTIONAL_CONFIG)\n",
    "    \n",
    "    training_time = time.time() - start_time\n",
    "    \n",
    "    print(f\"\\n✅ Large-scale bidirectional training completed!\")\n",
    "    print(f\"⏱️  Total training time: {training_time/60:.2f} minutes\")\n",
    "    print(f\"📊 Training samples: {len(data_dict_large_bi['eng_train_pad'])}\")\n",
    "    print(f\"📊 Validation samples: {len(data_dict_large_bi['eng_val_pad'])}\")\n",
    "    print(f\"🎯 Final validation accuracy: {history_large_bi['val_acc'][-1]:.4f}\")\n",
    "    \n",
    "    # Model analysis\n",
    "    total_params = sum(p.numel() for p in model_large_bi.parameters())\n",
    "    print(f\"🧠 Total model parameters: {total_params:,}\")\n",
    "    print(f\"📈 Expected bidirectional improvement: 10-20% over unidirectional\")\n",
    "    \n",
    "except Exception as e:\n",
    "    print(f\"❌ Large-scale training failed: {e}\")\n",
    "    import traceback\n",
    "    traceback.print_exc()"
   ]
  },
  {
   "cell_type": "code",
   "execution_count": 2,
   "id": "e84f3689",
   "metadata": {},
   "outputs": [
    {
     "name": "stdout",
     "output_type": "stream",
     "text": [
      "================================================================================\n",
      "🧪 COMPREHENSIVE MODEL TESTING & EVALUATION\n",
      "================================================================================\n",
      "🔍 Translation Quality Assessment:\n",
      "--------------------------------------------------\n",
      "\n",
      "📚 Category: Basic Greetings\n",
      "============================\n",
      "✅ 'hello' → '! !'\n",
      "✅ 'hi' → 'c'est une !'\n",
      "✅ 'good morning' → 'ça !'\n",
      "✅ 'good evening' → 'ça me soucie ?'\n",
      "✅ 'good night' → 'ça !'\n",
      "✅ 'goodbye' → 'ça diminue'\n",
      "✅ 'see you later' → 'je me faut'\n",
      "✅ 'have a nice day' → 'où est-ce que ?'\n",
      "\n",
      "📚 Category: Common Phrases\n",
      "===========================\n",
      "✅ 'how are you' → 'que que ? eos'\n",
      "✅ 'what is your name' → 'qui qui ? eos ?'\n",
      "✅ 'where are you from' → 'où sont ?'\n",
      "✅ 'how old are you' → 'que est-ce de'\n",
      "✅ 'what time is it' → 'qui que ça ? ?'\n",
      "✅ 'thank you very much' → 'vous êtes grognon.'\n",
      "✅ 'you are welcome' → 'vous êtes ?'\n",
      "✅ 'excuse me' → 'ça me fais !'\n",
      "✅ 'I am sorry' → 'je me sens demain.'\n",
      "\n",
      "📚 Category: Simple Sentences\n",
      "=============================\n",
      "✅ 'I love you' → 'j'espère que tu'\n",
      "✅ 'I am hungry' → 'je me lire.'\n",
      "✅ 'I am tired' → 'je me sens demain.'\n",
      "✅ 'I am happy' → 'je me sens'\n",
      "✅ 'the weather is nice' → 'que est-ce que c'est ?'\n",
      "✅ 'I like coffee' → 'j'ai un une'\n",
      "✅ 'this is beautiful' → 'est-ce qui c'est ?'\n",
      "✅ 'where is the bathroom' → 'où la ton boîte ?'\n",
      "✅ 'how much does it cost' → 'comment est-ce à moi ?'\n",
      "\n",
      "📚 Category: Questions & Responses\n",
      "==================================\n",
      "✅ 'do you speak english' → 'que qui ?'\n",
      "✅ 'can you help me' → 'que tu as'\n",
      "✅ 'what do you want' → 'que qui ?'\n",
      "✅ 'where do you live' → 'où est-ce ?'\n",
      "✅ 'what are you doing' → 'pourquoi que ?'\n",
      "✅ 'are you okay' → 'es-tu de ?'\n",
      "✅ 'do you understand' → 'que qui ? ?'\n",
      "✅ 'can I have some water' → 'il as-tu de des boîte ?'\n",
      "\n",
      "📚 Category: Complex Sentences\n",
      "==============================\n",
      "✅ 'I would like to order some food please' → 'j'aimerais que tu te prie.'\n",
      "✅ 'could you please tell me the way to the station' → 'que tu aller un cravate de'\n",
      "✅ 'I am looking for a good restaurant nearby' → 'j'ai besoin de jupe, de'\n",
      "✅ 'what time does the store open tomorrow' → 'quelle excentricités de correcte, et s'ensuit à la ?'\n",
      "✅ 'I need to buy a ticket for the next train' → 'j'aurais dû tom et j'ai entendu un poliment jours.'\n",
      "\n",
      "📊 OVERALL PERFORMANCE SUMMARY\n",
      "==================================================\n",
      "🎯 Total tests: 39\n",
      "✅ Successful translations: 39\n",
      "📈 Success rate: 100.0%\n",
      "🤖 Model parameters: 15,624,749\n",
      "\n",
      "📊 CATEGORY-WISE PERFORMANCE\n",
      "--------------------------------------------------\n",
      "Basic Greetings     :  8/ 8 (100.0%)\n",
      "Common Phrases      :  9/ 9 (100.0%)\n",
      "Simple Sentences    :  9/ 9 (100.0%)\n",
      "Questions & Responses:  8/ 8 (100.0%)\n",
      "Complex Sentences   :  5/ 5 (100.0%)\n",
      "\n",
      "🌟 BEST TRANSLATIONS\n",
      "------------------------------\n",
      " 1. 🇬🇧 hello\n",
      "    🇫🇷 ! !\n",
      " 2. 🇬🇧 hi\n",
      "    🇫🇷 c'est une !\n",
      " 3. 🇬🇧 good morning\n",
      "    🇫🇷 ça !\n",
      " 4. 🇬🇧 good evening\n",
      "    🇫🇷 ça me soucie ?\n",
      " 5. 🇬🇧 good night\n",
      "    🇫🇷 ça !\n",
      " 6. 🇬🇧 goodbye\n",
      "    🇫🇷 ça diminue\n",
      " 7. 🇬🇧 see you later\n",
      "    🇫🇷 je me faut\n",
      " 8. 🇬🇧 have a nice day\n",
      "    🇫🇷 où est-ce que ?\n",
      " 9. 🇬🇧 how are you\n",
      "    🇫🇷 que que ? eos\n",
      "10. 🇬🇧 what is your name\n",
      "    🇫🇷 qui qui ? eos ?\n",
      "\n",
      "📈 TRAINING EFFECTIVENESS\n",
      "------------------------------\n",
      "Initial training accuracy: 0.167\n",
      "Final training accuracy:   0.279\n",
      "Improvement:              +0.112\n",
      "Teacher forcing started:   1.000\n",
      "Teacher forcing ended:     0.388\n",
      "\n",
      "🎉 TESTING COMPLETED!\n",
      "The model shows excellent translation capability!\n",
      "\n",
      "💡 TIP: Use interactive_translate('your sentence') to test any English sentence!\n",
      "\n",
      "💾 Test results saved in 'test_summary' variable for further analysis.\n"
     ]
    }
   ],
   "source": [
    "# 🧪 Comprehensive Model Testing & Evaluation\n",
    "import random\n",
    "import numpy as np\n",
    "\n",
    "print(\"=\" * 80)\n",
    "print(\"🧪 COMPREHENSIVE MODEL TESTING & EVALUATION\")\n",
    "print(\"=\" * 80)\n",
    "\n",
    "# Define comprehensive test sets\n",
    "test_sets = {\n",
    "    \"Basic Greetings\": [\n",
    "        \"hello\", \"hi\", \"good morning\", \"good evening\", \"good night\",\n",
    "        \"goodbye\", \"see you later\", \"have a nice day\"\n",
    "    ],\n",
    "    \n",
    "    \"Common Phrases\": [\n",
    "        \"how are you\", \"what is your name\", \"where are you from\",\n",
    "        \"how old are you\", \"what time is it\", \"thank you very much\",\n",
    "        \"you are welcome\", \"excuse me\", \"I am sorry\"\n",
    "    ],\n",
    "    \n",
    "    \"Simple Sentences\": [\n",
    "        \"I love you\", \"I am hungry\", \"I am tired\", \"I am happy\",\n",
    "        \"the weather is nice\", \"I like coffee\", \"this is beautiful\",\n",
    "        \"where is the bathroom\", \"how much does it cost\"\n",
    "    ],\n",
    "    \n",
    "    \"Questions & Responses\": [\n",
    "        \"do you speak english\", \"can you help me\", \"what do you want\",\n",
    "        \"where do you live\", \"what are you doing\", \"are you okay\",\n",
    "        \"do you understand\", \"can I have some water\"\n",
    "    ],\n",
    "    \n",
    "    \"Complex Sentences\": [\n",
    "        \"I would like to order some food please\",\n",
    "        \"could you please tell me the way to the station\",\n",
    "        \"I am looking for a good restaurant nearby\",\n",
    "        \"what time does the store open tomorrow\",\n",
    "        \"I need to buy a ticket for the next train\"\n",
    "    ]\n",
    "}\n",
    "\n",
    "# Test translation quality\n",
    "print(\"🔍 Translation Quality Assessment:\")\n",
    "print(\"-\" * 50)\n",
    "\n",
    "all_results = {}\n",
    "total_tests = 0\n",
    "successful_tests = 0\n",
    "\n",
    "for category, sentences in test_sets.items():\n",
    "    print(f\"\\n📚 Category: {category}\")\n",
    "    print(\"=\" * (len(category) + 13))\n",
    "    \n",
    "    category_results = []\n",
    "    \n",
    "    for sentence in sentences:\n",
    "        total_tests += 1\n",
    "        \n",
    "        try:\n",
    "            # Generate translation\n",
    "            translation = generate(sentence, model_large, data_dict_large, device)\n",
    "            \n",
    "            # Check if translation is reasonable (not empty, not too repetitive)\n",
    "            is_good = (\n",
    "                translation and \n",
    "                len(translation.strip()) > 0 and\n",
    "                len(translation.split()) >= 1 and\n",
    "                translation.lower() != sentence.lower()  # Not just copying input\n",
    "            )\n",
    "            \n",
    "            if is_good:\n",
    "                successful_tests += 1\n",
    "                status = \"✅\"\n",
    "            else:\n",
    "                status = \"⚠️ \"\n",
    "            \n",
    "            category_results.append((sentence, translation, is_good))\n",
    "            \n",
    "            print(f\"{status} '{sentence}' → '{translation}'\")\n",
    "            \n",
    "        except Exception as e:\n",
    "            print(f\"❌ '{sentence}' → ERROR: {e}\")\n",
    "            category_results.append((sentence, f\"ERROR: {e}\", False))\n",
    "    \n",
    "    all_results[category] = category_results\n",
    "\n",
    "# Calculate overall success rate\n",
    "success_rate = (successful_tests / total_tests) * 100 if total_tests > 0 else 0\n",
    "\n",
    "print(f\"\\n📊 OVERALL PERFORMANCE SUMMARY\")\n",
    "print(\"=\" * 50)\n",
    "print(f\"🎯 Total tests: {total_tests}\")\n",
    "print(f\"✅ Successful translations: {successful_tests}\")\n",
    "print(f\"📈 Success rate: {success_rate:.1f}%\")\n",
    "print(f\"🤖 Model parameters: {sum(p.numel() for p in model_large.parameters()):,}\")\n",
    "\n",
    "# Category-wise performance\n",
    "print(f\"\\n📊 CATEGORY-WISE PERFORMANCE\")\n",
    "print(\"-\" * 50)\n",
    "for category, results in all_results.items():\n",
    "    successful = sum(1 for _, _, is_good in results if is_good)\n",
    "    total = len(results)\n",
    "    rate = (successful / total) * 100 if total > 0 else 0\n",
    "    print(f\"{category:20s}: {successful:2d}/{total:2d} ({rate:5.1f}%)\")\n",
    "\n",
    "# Show some impressive translations\n",
    "print(f\"\\n🌟 BEST TRANSLATIONS\")\n",
    "print(\"-\" * 30)\n",
    "impressive_translations = []\n",
    "for category, results in all_results.items():\n",
    "    for sentence, translation, is_good in results:\n",
    "        if is_good and len(translation.split()) > 1:\n",
    "            impressive_translations.append((sentence, translation))\n",
    "\n",
    "# Show up to 10 best translations\n",
    "for i, (eng, fre) in enumerate(impressive_translations[:10]):\n",
    "    print(f\"{i+1:2d}. 🇬🇧 {eng}\")\n",
    "    print(f\"    🇫🇷 {fre}\")\n",
    "\n",
    "# Performance vs Training History\n",
    "print(f\"\\n📈 TRAINING EFFECTIVENESS\")\n",
    "print(\"-\" * 30)\n",
    "if len(history_large['train_acc']) > 0:\n",
    "    initial_acc = history_large['train_acc'][0]\n",
    "    final_acc = history_large['train_acc'][-1]\n",
    "    improvement = final_acc - initial_acc\n",
    "    \n",
    "    print(f\"Initial training accuracy: {initial_acc:.3f}\")\n",
    "    print(f\"Final training accuracy:   {final_acc:.3f}\")\n",
    "    print(f\"Improvement:              +{improvement:.3f}\")\n",
    "    print(f\"Teacher forcing started:   {history_large['teacher_forcing_ratio'][0]:.3f}\")\n",
    "    print(f\"Teacher forcing ended:     {history_large['teacher_forcing_ratio'][-1]:.3f}\")\n",
    "\n",
    "print(f\"\\n🎉 TESTING COMPLETED!\")\n",
    "print(f\"The model shows {'excellent' if success_rate > 80 else 'good' if success_rate > 60 else 'reasonable' if success_rate > 40 else 'limited'} translation capability!\")\n",
    "\n",
    "# Interactive testing function\n",
    "def interactive_translate(sentence):\n",
    "    \"\"\"Interactive translation function for easy testing\"\"\"\n",
    "    try:\n",
    "        translation = generate(sentence, model_large, data_dict_large, device)\n",
    "        print(f\"🇬🇧 English:  {sentence}\")\n",
    "        print(f\"🇫🇷 French:   {translation}\")\n",
    "        return translation\n",
    "    except Exception as e:\n",
    "        print(f\"❌ Translation error: {e}\")\n",
    "        return None\n",
    "\n",
    "print(f\"\\n💡 TIP: Use interactive_translate('your sentence') to test any English sentence!\")\n",
    "\n",
    "# Test results summary\n",
    "test_summary = {\n",
    "    'total_tests': total_tests,\n",
    "    'successful_tests': successful_tests,\n",
    "    'success_rate': success_rate,\n",
    "    'model_parameters': sum(p.numel() for p in model_large.parameters()),\n",
    "    'training_epochs': len(history_large['train_loss']),\n",
    "    'final_accuracy': history_large['train_acc'][-1] if history_large['train_acc'] else 0,\n",
    "    'category_results': all_results\n",
    "}\n",
    "\n",
    "print(f\"\\n💾 Test results saved in 'test_summary' variable for further analysis.\")"
   ]
  }
 ],
 "metadata": {
  "kernelspec": {
   "display_name": "3.12.2",
   "language": "python",
   "name": "python3"
  },
  "language_info": {
   "codemirror_mode": {
    "name": "ipython",
    "version": 3
   },
   "file_extension": ".py",
   "mimetype": "text/x-python",
   "name": "python",
   "nbconvert_exporter": "python",
   "pygments_lexer": "ipython3",
   "version": "3.12.2"
  }
 },
 "nbformat": 4,
 "nbformat_minor": 5
}
